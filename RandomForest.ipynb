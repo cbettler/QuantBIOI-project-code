{
 "cells": [
  {
   "cell_type": "code",
   "execution_count": 241,
   "metadata": {},
   "outputs": [
    {
     "name": "stdout",
     "output_type": "stream",
     "text": [
      "Accuracy(%): 90.7348242812\n"
     ]
    }
   ],
   "source": [
    "import pandas as pd\n",
    "import numpy\n",
    "from sklearn.ensemble import RandomForestClassifier as rfc\n",
    "\n",
    "np.random.seed(1234)\n",
    "\n",
    "#read in dataset\n",
    "df = pd.read_csv(\"data.csv\")\n",
    "df = df.drop([\"id\",\"Unnamed: 32\"],axis=1)\n",
    "df = df.replace({'diagnosis': \"M\"}, 1)\n",
    "df = df.replace({'diagnosis': \"B\"}, 0)\n",
    "labels = df[\"diagnosis\"]\n",
    "df = df.drop(\"diagnosis\",axis=1)\n",
    "\n",
    "\n",
    "#values formatted\n",
    "dfTrn, dfDev, dfTes = numpy.split(df, [int(.15*len(df)), int(.7*len(df))])\n",
    "DTrn, DDev, DTes = numpy.split(labels, [int(.15*len(labels)), int(.7*len(labels))])\n",
    "\n",
    "#run model and test\n",
    "model = rfc()\n",
    "model = model.fit(dfTrn.values,DTrn)\n",
    "model_score = model.score(dfDev,DDev)\n",
    "print(\"Accuracy(%):\",model_score*100)\n",
    "\n",
    "#pretty accurate"
   ]
  },
  {
   "cell_type": "code",
   "execution_count": 242,
   "metadata": {
    "scrolled": true
   },
   "outputs": [
    {
     "name": "stdout",
     "output_type": "stream",
     "text": [
      "random forest 0.9411764705882353\n",
      "knn 0.9327731092436975\n",
      "svc 0.7647058823529411\n",
      "logistic regression 0.8823529411764706\n"
     ]
    }
   ],
   "source": [
    "import pandas as pd\n",
    "import numpy\n",
    "import pandas_montecarlo\n",
    "from scipy.stats import shapiro, kruskal, f_oneway\n",
    "from sklearn.ensemble import RandomForestClassifier as rfc\n",
    "from sklearn.neighbors import KNeighborsClassifier as knc\n",
    "from sklearn.svm import SVC as svc\n",
    "from sklearn.linear_model import LogisticRegression as lgr\n",
    "import numpy as np\n",
    "\n",
    "## RandomForest Classifier with monte carlo simulated training set\n",
    "np.random.seed(1234)\n",
    "\n",
    "df = pd.read_csv(\"data.csv\")\n",
    "df = df.drop([\"id\",\"Unnamed: 32\"],axis=1)\n",
    "df = df.replace({'diagnosis': \"M\"}, 1)\n",
    "df = df.replace({'diagnosis': \"B\"}, 0)\n",
    "\n",
    "#split dataset for mc seed and testing\n",
    "\n",
    "df_mc, df = numpy.split(df, [int(.7*len(df))])\n",
    "\n",
    "#split dataset by class\n",
    "df_1 = df_mc.loc[df_mc.diagnosis==1]\n",
    "df_0 = df_mc.loc[df_mc.diagnosis==0]\n",
    "df_1 = df_1.drop([\"diagnosis\"],axis=1)\n",
    "df_0 = df_0.drop([\"diagnosis\"],axis=1)\n",
    "\n",
    "#simulate class 0 data\n",
    "mc_sim_df_0 = pd.DataFrame()\n",
    "mc_sim_df_0['diagnosis']= ['0'] * len(df_0.index)\n",
    "for col in df_0.columns:\n",
    "    col_sim = df_0[col].montecarlo(sims = 2, bust = 0, goal = 0).data\n",
    "    col_sim = col_sim.drop([\"original\"],axis = 1)\n",
    "    for col2 in col_sim.columns:\n",
    "        mc_sim_df_0[col]=col_sim[col2]\n",
    "        #if(shapiro(mc_sim_df_1[col])[1]>0.05):\n",
    "            #print(kruskal(mc_sim_df_1[col],df_1[col]))\n",
    "        #else:\n",
    "            #print(f_oneway(mc_sim_df_1[col],df_1[col]))\n",
    "\n",
    "#simulate class 1 data\n",
    "mc_sim_df_1 = pd.DataFrame()\n",
    "mc_sim_df_1['diagnosis']= ['1'] * len(df_1.index)\n",
    "for col in df_1.columns:\n",
    "    col_sim = df_1[col].montecarlo(sims = 2, bust = 0, goal = 0).data\n",
    "    col_sim = col_sim.drop([\"original\"],axis = 1)\n",
    "    for col2 in col_sim.columns:\n",
    "        mc_sim_df_1[col]=col_sim[col2]\n",
    "        #if(shapiro(mc_sim_df_1[col])[1]>0.05):\n",
    "            #print(kruskal(mc_sim_df_1[col],df_1[col]))\n",
    "        #else:\n",
    "            #print(f_oneway(mc_sim_df_1[col],df_1[col]))\n",
    "\n",
    "\n",
    "#diag = mc_sim_df_1.append(mc_sim_df_0)['diagnosis']\n",
    "mc_sim_df = mc_sim_df_1.append(mc_sim_df_0)\n",
    "#shuffling dataframe for good luck\n",
    "#mc_sim_df = mc_sim_df.sample(frac=1)\n",
    "#mc_sim_df['diagnosis']=diag\n",
    "mc_sim_df.head(20)\n",
    "\n",
    "\n",
    "#values formatted\n",
    "labels = df[\"diagnosis\"]\n",
    "df = df.drop(\"diagnosis\",axis=1)\n",
    "dfDev, dfTes = numpy.split(df, [int(.7*len(df))])\n",
    "DDev, DTes = numpy.split(labels, [int(.7*len(labels))])\n",
    "\n",
    "DTrn =  mc_sim_df['diagnosis']\n",
    "dfTrn = mc_sim_df.drop(['diagnosis'], axis = 1)\n",
    "\n",
    "#run model and test\n",
    "#randomforest\n",
    "model = rfc()\n",
    "model = model.fit(dfTrn.values,DTrn)\n",
    "pd = model.predict(dfDev)\n",
    "hit = 0\n",
    "for i in range(len(pd)):\n",
    "    if(int(pd[i])==int(DDev.iloc[i])):\n",
    "        hit+=1\n",
    "print(\"random forest\", hit/len(pd))\n",
    "\n",
    "#knn\n",
    "model = knc()\n",
    "model = model.fit(dfTrn.values,DTrn)\n",
    "pd = model.predict(dfDev)\n",
    "hit = 0\n",
    "for i in range(len(pd)):\n",
    "    if(int(pd[i])==int(DDev.iloc[i])):\n",
    "        hit+=1\n",
    "print(\"knn\", hit/len(pd))\n",
    "\n",
    "#svc\n",
    "model = svc()\n",
    "model = model.fit(dfTrn.values,DTrn)\n",
    "pd = model.predict(dfDev)\n",
    "hit = 0\n",
    "for i in range(len(pd)):\n",
    "    if(int(pd[i])==int(DDev.iloc[i])):\n",
    "        hit+=1\n",
    "print(\"svc\", hit/len(pd))\n",
    "\n",
    "#logistic regression\n",
    "model = lgr()\n",
    "model = model.fit(dfTrn.values,DTrn)\n",
    "pd = model.predict(dfDev)\n",
    "hit = 0\n",
    "for i in range(len(pd)):\n",
    "    if(int(pd[i])==int(DDev.iloc[i])):\n",
    "        hit+=1\n",
    "print(\"logistic regression\", hit/len(pd))"
   ]
  },
  {
   "cell_type": "code",
   "execution_count": null,
   "metadata": {},
   "outputs": [],
   "source": []
  },
  {
   "cell_type": "code",
   "execution_count": null,
   "metadata": {
    "collapsed": true
   },
   "outputs": [],
   "source": [
    "#dataset normality\n",
    "\n",
    "import pandas as pd\n",
    "import numpy\n",
    "from sklearn.svm import SVC\n",
    "from scipy.stats import shapiro\n",
    "\n",
    "#read in dataset\n",
    "df = pd.read_csv(\"data.csv\")\n",
    "df = df.drop([\"id\",\"Unnamed: 32\"],axis=1)\n",
    "df = df.replace({'diagnosis': \"M\"}, 1)\n",
    "df = df.replace({'diagnosis': \"B\"}, 0)\n",
    "labels = df[\"diagnosis\"]\n",
    "df = df.drop(\"diagnosis\",axis=1)\n",
    "for col in df.columns:\n",
    "    print(col.title(), shapiro(df[col]))\n",
    "        \n",
    "#dataset is normal\n",
    "\n",
    "\n"
   ]
  },
  {
   "cell_type": "code",
   "execution_count": null,
   "metadata": {
    "collapsed": true
   },
   "outputs": [],
   "source": []
  },
  {
   "cell_type": "code",
   "execution_count": null,
   "metadata": {
    "collapsed": true
   },
   "outputs": [],
   "source": []
  },
  {
   "cell_type": "code",
   "execution_count": null,
   "metadata": {
    "collapsed": true
   },
   "outputs": [],
   "source": []
  }
 ],
 "metadata": {
  "kernelspec": {
   "display_name": "Python 3",
   "language": "python",
   "name": "python3"
  },
  "language_info": {
   "codemirror_mode": {
    "name": "ipython",
    "version": 3
   },
   "file_extension": ".py",
   "mimetype": "text/x-python",
   "name": "python",
   "nbconvert_exporter": "python",
   "pygments_lexer": "ipython3",
   "version": "3.6.3"
  }
 },
 "nbformat": 4,
 "nbformat_minor": 2
}
