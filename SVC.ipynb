{
 "cells": [
  {
   "cell_type": "code",
   "execution_count": 37,
   "metadata": {},
   "outputs": [
    {
     "name": "stdout",
     "output_type": "stream",
     "text": [
      "Accuracy(%): 91.6932907348\n"
     ]
    }
   ],
   "source": [
    "import pandas as pd\n",
    "import numpy\n",
    "#from sklearn.svm import SVC\n",
    "from sklearn.ensemble import RandomForestClassifier as rfc\n",
    "\n",
    "#read in dataset\n",
    "df = pd.read_csv(\"data.csv\")\n",
    "df = df.drop([\"id\",\"Unnamed: 32\"],axis=1)\n",
    "df = df.replace({'diagnosis': \"M\"}, 1)\n",
    "df = df.replace({'diagnosis': \"B\"}, 0)\n",
    "labels = df[\"diagnosis\"]\n",
    "df = df.drop(\"diagnosis\",axis=1)\n",
    "\n",
    "\n",
    "#values formatted\n",
    "dfTrn, dfDev, dfTes = numpy.split(df, [int(.15*len(df)), int(.7*len(df))])\n",
    "DTrn, DDev, DTes = numpy.split(labels, [int(.15*len(labels)), int(.7*len(labels))])\n",
    "\n",
    "#run model and test\n",
    "model = rfc()\n",
    "model = model.fit(dfTrn.values,DTrn)\n",
    "model_score = model.score(dfDev,DDev)\n",
    "print(\"Accuracy(%):\",model_score*100)  "
   ]
  },
  {
   "cell_type": "code",
   "execution_count": 40,
   "metadata": {},
   "outputs": [
    {
     "name": "stdout",
     "output_type": "stream",
     "text": [
      "(0.9410696029663086, 3.1061551985026026e-14)\n",
      "(0.9767200946807861, 7.281473557441132e-08)\n",
      "(0.9361826181411743, 7.01163031715385e-15)\n",
      "(0.8584018349647522, 3.196511088521129e-22)\n",
      "(0.987487256526947, 8.59934589243494e-05)\n",
      "(0.9169784784317017, 3.967941392408286e-17)\n",
      "(0.8668309450149536, 1.3385831077542155e-21)\n",
      "(0.8916499018669128, 1.4044357116065472e-19)\n",
      "(0.972588062286377, 7.88199550072477e-09)\n",
      "(0.9232836961746216, 1.956494436320316e-16)\n",
      "(0.7455540895462036, 1.2245553698549864e-28)\n",
      "(0.8961676359176636, 3.5603670776690514e-19)\n",
      "(0.7181644439697266, 7.587720866535223e-30)\n",
      "(0.563820481300354, 2.6527208249479415e-35)\n",
      "(0.8384096622467041, 1.3619356940226007e-23)\n",
      "(0.8368780612945557, 1.0828804875356465e-23)\n",
      "(0.6720700263977051, 1.101693524093482e-31)\n",
      "(0.9197062253952026, 7.82604378738137e-17)\n",
      "(0.828387439250946, 3.127301796951193e-24)\n",
      "(0.69507896900177, 8.551022688390013e-31)\n",
      "(0.9134925603866577, 1.7043174747122154e-17)\n",
      "(0.9825620651245117, 2.564881469879765e-06)\n",
      "(0.9125850796699524, 1.3732817788019638e-17)\n",
      "(0.8160704970359802, 5.59576708181488e-25)\n",
      "(0.9886201024055481, 0.0002097362739732489)\n",
      "(0.8910645842552185, 1.2475981315634304e-19)\n",
      "(0.9175271391868591, 4.542876255013473e-17)\n",
      "(0.9648364186286926, 1.9859026922919298e-10)\n",
      "(0.9161444306373596, 3.234117707276973e-17)\n",
      "(0.8895459175109863, 9.195529701560753e-20)\n"
     ]
    }
   ],
   "source": [
    "import pandas as pd\n",
    "import numpy\n",
    "from sklearn.svm import SVC\n",
    "from scipy.stats import shapiro\n",
    "\n",
    "#read in dataset\n",
    "df = pd.read_csv(\"data.csv\")\n",
    "df = df.drop([\"id\",\"Unnamed: 32\"],axis=1)\n",
    "df = df.replace({'diagnosis': \"M\"}, 1)\n",
    "df = df.replace({'diagnosis': \"B\"}, 0)\n",
    "labels = df[\"diagnosis\"]\n",
    "df = df.drop(\"diagnosis\",axis=1)\n",
    "for col in df.columns:\n",
    "    print(shapiro(df[col]))\n",
    "    if(shapiro(df[col])[1]>0.05):\n",
    "        print(\"!\")\n",
    "        \n",
    "#dataset\n"
   ]
  },
  {
   "cell_type": "code",
   "execution_count": null,
   "metadata": {},
   "outputs": [],
   "source": []
  },
  {
   "cell_type": "code",
   "execution_count": null,
   "metadata": {
    "collapsed": true
   },
   "outputs": [],
   "source": []
  }
 ],
 "metadata": {
  "kernelspec": {
   "display_name": "Python 3",
   "language": "python",
   "name": "python3"
  },
  "language_info": {
   "codemirror_mode": {
    "name": "ipython",
    "version": 3
   },
   "file_extension": ".py",
   "mimetype": "text/x-python",
   "name": "python",
   "nbconvert_exporter": "python",
   "pygments_lexer": "ipython3",
   "version": "3.6.3"
  }
 },
 "nbformat": 4,
 "nbformat_minor": 2
}
