{
 "cells": [
  {
   "cell_type": "code",
   "execution_count": 11,
   "metadata": {},
   "outputs": [
    {
     "name": "stdout",
     "output_type": "stream",
     "text": [
      "Accuracy(%): 89.1373801917\n"
     ]
    }
   ],
   "source": [
    "import pandas as pd\n",
    "import numpy\n",
    "from sklearn.ensemble import RandomForestClassifier as rfc\n",
    "\n",
    "#read in dataset\n",
    "df = pd.read_csv(\"data.csv\")\n",
    "df = df.drop([\"id\",\"Unnamed: 32\"],axis=1)\n",
    "df = df.replace({'diagnosis': \"M\"}, 1)\n",
    "df = df.replace({'diagnosis': \"B\"}, 0)\n",
    "labels = df[\"diagnosis\"]\n",
    "df = df.drop(\"diagnosis\",axis=1)\n",
    "\n",
    "\n",
    "#values formatted\n",
    "dfTrn, dfDev, dfTes = numpy.split(df, [int(.15*len(df)), int(.7*len(df))])\n",
    "DTrn, DDev, DTes = numpy.split(labels, [int(.15*len(labels)), int(.7*len(labels))])\n",
    "\n",
    "#run model and test\n",
    "model = rfc()\n",
    "model = model.fit(dfTrn.values,DTrn)\n",
    "model_score = model.score(dfDev,DDev)\n",
    "print(\"Accuracy(%):\",model_score*100)\n",
    "\n",
    "#pretty accurate"
   ]
  },
  {
   "cell_type": "code",
   "execution_count": 55,
   "metadata": {},
   "outputs": [
    {
     "ename": "AttributeError",
     "evalue": "'DataFrame' object has no attribute 'data'",
     "output_type": "error",
     "traceback": [
      "\u001b[0;31m---------------------------------------------------------------------------\u001b[0m",
      "\u001b[0;31mAttributeError\u001b[0m                            Traceback (most recent call last)",
      "\u001b[0;32m<ipython-input-55-47ae533cc181>\u001b[0m in \u001b[0;36m<module>\u001b[0;34m()\u001b[0m\n\u001b[1;32m     10\u001b[0m         \u001b[0;31m#print(col_sim.data.head())\u001b[0m\u001b[0;34m\u001b[0m\u001b[0;34m\u001b[0m\u001b[0m\n\u001b[1;32m     11\u001b[0m         \u001b[0mcol_sim\u001b[0m \u001b[0;34m=\u001b[0m \u001b[0mcol_sim\u001b[0m\u001b[0;34m.\u001b[0m\u001b[0mdata\u001b[0m\u001b[0;34m.\u001b[0m\u001b[0mdrop\u001b[0m\u001b[0;34m(\u001b[0m\u001b[0;34m[\u001b[0m\u001b[0;34m\"original\"\u001b[0m\u001b[0;34m]\u001b[0m\u001b[0;34m,\u001b[0m\u001b[0maxis\u001b[0m \u001b[0;34m=\u001b[0m \u001b[0;36m1\u001b[0m\u001b[0;34m)\u001b[0m\u001b[0;34m\u001b[0m\u001b[0m\n\u001b[0;32m---> 12\u001b[0;31m         \u001b[0mprint\u001b[0m\u001b[0;34m(\u001b[0m\u001b[0mcol_sim\u001b[0m\u001b[0;34m.\u001b[0m\u001b[0mdata\u001b[0m\u001b[0;34m.\u001b[0m\u001b[0mhead\u001b[0m\u001b[0;34m(\u001b[0m\u001b[0;34m)\u001b[0m\u001b[0;34m)\u001b[0m\u001b[0;34m\u001b[0m\u001b[0m\n\u001b[0m\u001b[1;32m     13\u001b[0m         \u001b[0;32mbreak\u001b[0m\u001b[0;34m\u001b[0m\u001b[0m\n\u001b[1;32m     14\u001b[0m         \u001b[0;31m#for sim_col in col_sim:\u001b[0m\u001b[0;34m\u001b[0m\u001b[0;34m\u001b[0m\u001b[0m\n",
      "\u001b[0;32m/Applications/anaconda/lib/python3.6/site-packages/pandas/core/generic.py\u001b[0m in \u001b[0;36m__getattr__\u001b[0;34m(self, name)\u001b[0m\n\u001b[1;32m   3079\u001b[0m             \u001b[0;32mif\u001b[0m \u001b[0mname\u001b[0m \u001b[0;32min\u001b[0m \u001b[0mself\u001b[0m\u001b[0;34m.\u001b[0m\u001b[0m_info_axis\u001b[0m\u001b[0;34m:\u001b[0m\u001b[0;34m\u001b[0m\u001b[0m\n\u001b[1;32m   3080\u001b[0m                 \u001b[0;32mreturn\u001b[0m \u001b[0mself\u001b[0m\u001b[0;34m[\u001b[0m\u001b[0mname\u001b[0m\u001b[0;34m]\u001b[0m\u001b[0;34m\u001b[0m\u001b[0m\n\u001b[0;32m-> 3081\u001b[0;31m             \u001b[0;32mreturn\u001b[0m \u001b[0mobject\u001b[0m\u001b[0;34m.\u001b[0m\u001b[0m__getattribute__\u001b[0m\u001b[0;34m(\u001b[0m\u001b[0mself\u001b[0m\u001b[0;34m,\u001b[0m \u001b[0mname\u001b[0m\u001b[0;34m)\u001b[0m\u001b[0;34m\u001b[0m\u001b[0m\n\u001b[0m\u001b[1;32m   3082\u001b[0m \u001b[0;34m\u001b[0m\u001b[0m\n\u001b[1;32m   3083\u001b[0m     \u001b[0;32mdef\u001b[0m \u001b[0m__setattr__\u001b[0m\u001b[0;34m(\u001b[0m\u001b[0mself\u001b[0m\u001b[0;34m,\u001b[0m \u001b[0mname\u001b[0m\u001b[0;34m,\u001b[0m \u001b[0mvalue\u001b[0m\u001b[0;34m)\u001b[0m\u001b[0;34m:\u001b[0m\u001b[0;34m\u001b[0m\u001b[0m\n",
      "\u001b[0;31mAttributeError\u001b[0m: 'DataFrame' object has no attribute 'data'"
     ]
    }
   ],
   "source": [
    "import pandas as pd\n",
    "import numpy\n",
    "import pandas_montecarlo\n",
    "from scipy.stats import kruskal\n",
    "simset = []\n",
    "\n",
    "for col in df.columns:\n",
    "        col_sim = df[col].montecarlo(sims = 10, bust = 0, goal = 0)\n",
    "        #print(len(list(df[col])),len(col_sim.data))\n",
    "        #print(col_sim.data.head())\n",
    "        col_sim = col_sim.data.drop([\"original\"],axis = 1)\n",
    "        print(col_sim.data.head())\n",
    "        break\n",
    "        #for sim_col in col_sim:\n",
    "            #print(type(sim_col))\n",
    "            #print(kruskal(sim_col,list(df[col])))\n",
    "        "
   ]
  },
  {
   "cell_type": "code",
   "execution_count": 9,
   "metadata": {},
   "outputs": [
    {
     "name": "stdout",
     "output_type": "stream",
     "text": [
      "Radius_Mean (0.9410696029663086, 3.1061551985026026e-14)\n",
      "Texture_Mean (0.9767200946807861, 7.281473557441132e-08)\n",
      "Perimeter_Mean (0.9361826181411743, 7.01163031715385e-15)\n",
      "Area_Mean (0.8584018349647522, 3.196511088521129e-22)\n",
      "Smoothness_Mean (0.987487256526947, 8.59934589243494e-05)\n",
      "Compactness_Mean (0.9169784784317017, 3.967941392408286e-17)\n",
      "Concavity_Mean (0.8668309450149536, 1.3385831077542155e-21)\n",
      "Concave Points_Mean (0.8916499018669128, 1.4044357116065472e-19)\n",
      "Symmetry_Mean (0.972588062286377, 7.88199550072477e-09)\n",
      "Fractal_Dimension_Mean (0.9232836961746216, 1.956494436320316e-16)\n",
      "Radius_Se (0.7455540895462036, 1.2245553698549864e-28)\n",
      "Texture_Se (0.8961676359176636, 3.5603670776690514e-19)\n",
      "Perimeter_Se (0.7181644439697266, 7.587720866535223e-30)\n",
      "Area_Se (0.563820481300354, 2.6527208249479415e-35)\n",
      "Smoothness_Se (0.8384096622467041, 1.3619356940226007e-23)\n",
      "Compactness_Se (0.8368780612945557, 1.0828804875356465e-23)\n",
      "Concavity_Se (0.6720700263977051, 1.101693524093482e-31)\n",
      "Concave Points_Se (0.9197062253952026, 7.82604378738137e-17)\n",
      "Symmetry_Se (0.828387439250946, 3.127301796951193e-24)\n",
      "Fractal_Dimension_Se (0.69507896900177, 8.551022688390013e-31)\n",
      "Radius_Worst (0.9134925603866577, 1.7043174747122154e-17)\n",
      "Texture_Worst (0.9825620651245117, 2.564881469879765e-06)\n",
      "Perimeter_Worst (0.9125850796699524, 1.3732817788019638e-17)\n",
      "Area_Worst (0.8160704970359802, 5.59576708181488e-25)\n",
      "Smoothness_Worst (0.9886201024055481, 0.0002097362739732489)\n",
      "Compactness_Worst (0.8910645842552185, 1.2475981315634304e-19)\n",
      "Concavity_Worst (0.9175271391868591, 4.542876255013473e-17)\n",
      "Concave Points_Worst (0.9648364186286926, 1.9859026922919298e-10)\n",
      "Symmetry_Worst (0.9161444306373596, 3.234117707276973e-17)\n",
      "Fractal_Dimension_Worst (0.8895459175109863, 9.195529701560753e-20)\n"
     ]
    }
   ],
   "source": [
    "#dataset normality\n",
    "\n",
    "import pandas as pd\n",
    "import numpy\n",
    "from sklearn.svm import SVC\n",
    "from scipy.stats import shapiro\n",
    "\n",
    "#read in dataset\n",
    "df = pd.read_csv(\"data.csv\")\n",
    "df = df.drop([\"id\",\"Unnamed: 32\"],axis=1)\n",
    "df = df.replace({'diagnosis': \"M\"}, 1)\n",
    "df = df.replace({'diagnosis': \"B\"}, 0)\n",
    "labels = df[\"diagnosis\"]\n",
    "df = df.drop(\"diagnosis\",axis=1)\n",
    "for col in df.columns:\n",
    "    print(col.title(), shapiro(df[col]))\n",
    "        \n",
    "#dataset is normal\n",
    "\n",
    "\n"
   ]
  },
  {
   "cell_type": "code",
   "execution_count": null,
   "metadata": {
    "collapsed": true
   },
   "outputs": [],
   "source": []
  },
  {
   "cell_type": "code",
   "execution_count": null,
   "metadata": {
    "collapsed": true
   },
   "outputs": [],
   "source": []
  }
 ],
 "metadata": {
  "kernelspec": {
   "display_name": "Python 3",
   "language": "python",
   "name": "python3"
  },
  "language_info": {
   "codemirror_mode": {
    "name": "ipython",
    "version": 3
   },
   "file_extension": ".py",
   "mimetype": "text/x-python",
   "name": "python",
   "nbconvert_exporter": "python",
   "pygments_lexer": "ipython3",
   "version": "3.6.3"
  }
 },
 "nbformat": 4,
 "nbformat_minor": 2
}
